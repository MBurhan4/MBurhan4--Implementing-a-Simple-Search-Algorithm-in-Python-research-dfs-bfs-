{
 "cells": [
  {
   "cell_type": "code",
   "execution_count": 1,
   "id": "25825d4f-21b3-4733-8b9b-8aa848c81dfc",
   "metadata": {},
   "outputs": [
    {
     "name": "stdout",
     "output_type": "stream",
     "text": [
      "DFS path: ['Arad', 'Zerind', 'Oradea', 'Sibiu', 'Fagaras', 'Bucharest']\n",
      "BFS path: ['Arad', 'Sibiu', 'Fagaras', 'Bucharest']\n"
     ]
    }
   ],
   "source": [
    "from queue import Queue\n",
    "\n",
    "def dfs(graph, source, goal, visited=None, path=None):\n",
    "    if visited is None:\n",
    "        visited = set()\n",
    "    if path is None:\n",
    "        path = []\n",
    "    visited.add(source)\n",
    "    path.append(source)\n",
    "    if source == goal:\n",
    "        return path\n",
    "    for neighbor, distance in graph[source].items():\n",
    "        if neighbor not in visited:\n",
    "            new_path = dfs(graph, neighbor, goal, visited, path)\n",
    "            if new_path:\n",
    "                return new_path\n",
    "    return None\n",
    "\n",
    "def bfs(graph, source, goal):\n",
    "    queue = Queue()\n",
    "    visited = set()\n",
    "    path = []\n",
    "    queue.put([source])\n",
    "    visited.add(source)\n",
    "    while not queue.empty():\n",
    "        path = queue.get()\n",
    "        current_node = path[-1]\n",
    "        if current_node == goal:\n",
    "            return path\n",
    "        for neighbor, distance in graph[current_node].items():\n",
    "            if neighbor not in visited:\n",
    "                new_path = list(path)\n",
    "                new_path.append(neighbor)\n",
    "                queue.put(new_path)\n",
    "                visited.add(neighbor)\n",
    "    return None\n",
    "\n",
    "# Sample adjacency list representation of the Romania map\n",
    "graph = {\n",
    "    'Arad': {'Zerind': 75, 'Sibiu': 140, 'Timisoara': 118},\n",
    "    'Zerind': {'Arad': 75, 'Oradea': 71},\n",
    "    'Oradea': {'Zerind': 71, 'Sibiu': 151},\n",
    "    'Sibiu': {'Arad': 140, 'Oradea': 151, 'Fagaras': 99, 'Rimnicu Vilcea': 80},\n",
    "    'Timisoara': {'Arad': 118, 'Lugoj': 111},\n",
    "    'Lugoj': {'Timisoara': 111, 'Mehadia': 70},\n",
    "    'Mehadia': {'Lugoj': 70, 'Drobeta': 75},\n",
    "    'Drobeta': {'Mehadia': 75, 'Craiova': 120},\n",
    "    'Craiova': {'Drobeta': 120, 'Rimnicu Vilcea': 146, 'Pitesti': 138},\n",
    "    'Rimnicu Vilcea': {'Sibiu': 80, 'Craiova': 146, 'Pitesti': 97},\n",
    "    'Fagaras': {'Sibiu': 99, 'Bucharest': 211},\n",
    "    'Pitesti': {'Rimnicu Vilcea': 97, 'Craiova': 138, 'Bucharest': 101},\n",
    "    'Bucharest': {'Fagaras': 211, 'Pitesti': 101, 'Giurgiu': 90, 'Urziceni': 85},\n",
    "    'Giurgiu': {'Bucharest': 90},\n",
    "    'Urziceni': {'Bucharest': 85, 'Vaslui': 142, 'Hirsova': 98},\n",
    "    'Vaslui': {'Urziceni': 142, 'Iasi': 92},\n",
    "    'Iasi': {'Vaslui': 92, 'Neamt': 87},\n",
    "    'Neamt': {'Iasi': 87}\n",
    "}\n",
    "\n",
    "source = 'Arad'\n",
    "goal = 'Bucharest'\n",
    "\n",
    "print(\"DFS path:\", dfs(graph, source, goal))\n",
    "print(\"BFS path:\", bfs(graph, source, goal))\n"
   ]
  },
  {
   "cell_type": "code",
   "execution_count": null,
   "id": "9ba4e156-4e45-4165-b999-a9a6f979aee8",
   "metadata": {},
   "outputs": [],
   "source": []
  }
 ],
 "metadata": {
  "kernelspec": {
   "display_name": "Python 3 (ipykernel)",
   "language": "python",
   "name": "python3"
  },
  "language_info": {
   "codemirror_mode": {
    "name": "ipython",
    "version": 3
   },
   "file_extension": ".py",
   "mimetype": "text/x-python",
   "name": "python",
   "nbconvert_exporter": "python",
   "pygments_lexer": "ipython3",
   "version": "3.9.13"
  }
 },
 "nbformat": 4,
 "nbformat_minor": 5
}
